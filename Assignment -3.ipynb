{
 "cells": [
  {
   "cell_type": "markdown",
   "metadata": {},
   "source": [
    "1.Define a function to identity the number of times a substring is repeating in a given string\n",
    "\n",
    "substringCount('str', 'substr') -> 1\n",
    "substringCount('1234567891122334455', '3') -> 3\n",
    "substringCount('abccddccc', 'cc') -> 3\n",
    "substringCount('aaaaaaa', 'aaa' ) -> "
   ]
  },
  {
   "cell_type": "code",
   "execution_count": 1,
   "metadata": {},
   "outputs": [
    {
     "name": "stdout",
     "output_type": "stream",
     "text": [
      "3\n"
     ]
    }
   ],
   "source": [
    "string = input(\"enter the string\")\n",
    "substring = input(\"enter  the substring\")\n",
    "count = 0\n",
    "for i in range(len(string)):\n",
    "    if string[i] == substring[0]: \n",
    "        if string[i: i + len(substring)] == substring:\n",
    "            count += 1\n",
    "print(count)"
   ]
  },
  {
   "cell_type": "markdown",
   "metadata": {},
   "source": [
    "2. Define a function to merge the characters of two strings alternatively. The remaining characters\n",
    "\n",
    "     of the longer string are printed in the same order at the end.\n",
    "\n",
    "    mergeString('abcd', 'abcd') -> 'aabbccdd'\n",
    "    mergeString('abc', '123456') -> 'a1b2c3456'\n",
    "    mergeString('0', '123456') -> '0123456'"
   ]
  },
  {
   "cell_type": "code",
   "execution_count": 12,
   "metadata": {},
   "outputs": [
    {
     "name": "stdout",
     "output_type": "stream",
     "text": [
      "0123456\n"
     ]
    }
   ],
   "source": [
    "def mergeString(str1, str2):\n",
    "    str = \"\"\n",
    "    len_str1 = len(str1) \n",
    "    len_str2 = len(str2)\n",
    "    maxi = max(len_str1, len_str2)\n",
    "    mini = min(len_str1, len_str2)\n",
    "    for i in range(maxi):\n",
    "        if i < mini:\n",
    "            str += str1[i]+str2[i]\n",
    "        elif len_str1 > len_str2:\n",
    "            str += str1[i]\n",
    "        elif len_str1 < len_str2:\n",
    "            str += str2[i]\n",
    "    print(str)\n",
    "    \n",
    "str1 = input(\"enter string1\")\n",
    "str2 = input(\"enter string2\")\n",
    "\n",
    "mergeString(\"0\", \"123456\")"
   ]
  },
  {
   "cell_type": "markdown",
   "metadata": {},
   "source": [
    "3. Define a function to validate email addresses based on the following rules.\n",
    "\n",
    "Email should be in the format username@domain.extension\n",
    "username must start with an alphabet and can contain lowercase alphabet, digits, hyphen(-) and underscores( _ ).\n",
    "username must not contain special characters, uppercase letters, whitespaces.\n",
    "Length of username must be in the range (6, 16)\n",
    "Domain can only contain lowercase alphabet and digits with length in range (3, 10) . No special characters are allowed\n",
    "Extension can only contain lower case alphabet and its length must be in the range (2, 4)\n",
    "First line of input contains total number of email addresses n. Next n lines contain n email addresses.\n",
    "\n",
    "Output must contain contain n lines with either 'Valid' or 'Invalid'\n",
    "\n",
    "Sample Input : 6\n",
    "\n",
    "abc456@gmail.com\n",
    "\n",
    "456abc@yahoo.com\n",
    "\n",
    "abc_456@gitam.ed1\n",
    "\n",
    "abc-456@abc-d.in\n",
    "\n",
    "python@python.edu\n",
    "\n",
    "abc 456@edu.edu\n",
    "\n",
    "Sample Output : Valid\n",
    "\n",
    "Invalid\n",
    "\n",
    "Invalid\n",
    "\n",
    "Invalid\n",
    "\n",
    "Valid\n",
    "\n",
    "Invalid"
   ]
  },
  {
   "cell_type": "code",
   "execution_count": 25,
   "metadata": {},
   "outputs": [
    {
     "name": "stdin",
     "output_type": "stream",
     "text": [
      "enter the number of emails to validate 1\n",
      "enter the email to validate snathos@gmail.com\n"
     ]
    },
    {
     "name": "stdout",
     "output_type": "stream",
     "text": [
      "valid\n"
     ]
    }
   ],
   "source": [
    "import re\n",
    "def validateEmail(email):\n",
    "    expression = r'[a-z-_0-9]{6,16}[@][a-z]{3,10}[.][a-z]{2,3}$'\n",
    "    if re.match(expression, email):\n",
    "        print(\"valid\")\n",
    "    else:\n",
    "        print(\"invalid\")\n",
    "n = int(input(\"enter the number of emails to validate\"))\n",
    "list_of_emails = []\n",
    "for i in range(n):\n",
    "    email = input(\"enter the email to validate\")\n",
    "    list_of_emails.append(email)\n",
    "for email in list_of_emails:\n",
    "    validateEmail(email)"
   ]
  },
  {
   "cell_type": "code",
   "execution_count": null,
   "metadata": {},
   "outputs": [],
   "source": []
  }
 ],
 "metadata": {
  "kernelspec": {
   "display_name": "Python 3",
   "language": "python",
   "name": "python3"
  },
  "language_info": {
   "codemirror_mode": {
    "name": "ipython",
    "version": 3
   },
   "file_extension": ".py",
   "mimetype": "text/x-python",
   "name": "python",
   "nbconvert_exporter": "python",
   "pygments_lexer": "ipython3",
   "version": "3.7.3"
  }
 },
 "nbformat": 4,
 "nbformat_minor": 2
}
